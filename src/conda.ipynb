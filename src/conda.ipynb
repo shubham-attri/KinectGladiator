{
 "cells": [
  {
   "cell_type": "code",
   "execution_count": 2,
   "metadata": {
    "collapsed": true
   },
   "outputs": [
    {
     "ename": "ModuleNotFoundError",
     "evalue": "No module named 'tensorflow'",
     "output_type": "error",
     "traceback": [
      "\u001B[0;31m---------------------------------------------------------------------------\u001B[0m",
      "\u001B[0;31mModuleNotFoundError\u001B[0m                       Traceback (most recent call last)",
      "Cell \u001B[0;32mIn[2], line 3\u001B[0m\n\u001B[1;32m      1\u001B[0m \u001B[38;5;28;01mimport\u001B[39;00m \u001B[38;5;21;01mcv2\u001B[39;00m\n\u001B[1;32m      2\u001B[0m \u001B[38;5;28;01mimport\u001B[39;00m \u001B[38;5;21;01mnumpy\u001B[39;00m \u001B[38;5;28;01mas\u001B[39;00m \u001B[38;5;21;01mnp\u001B[39;00m\n\u001B[0;32m----> 3\u001B[0m \u001B[38;5;28;01mimport\u001B[39;00m \u001B[38;5;21;01mtensorflow\u001B[39;00m \u001B[38;5;28;01mas\u001B[39;00m \u001B[38;5;21;01mtf\u001B[39;00m\n\u001B[1;32m      4\u001B[0m \u001B[38;5;28;01mfrom\u001B[39;00m \u001B[38;5;21;01mtensorflow\u001B[39;00m\u001B[38;5;21;01m.\u001B[39;00m\u001B[38;5;21;01mkeras\u001B[39;00m\u001B[38;5;21;01m.\u001B[39;00m\u001B[38;5;21;01mmodels\u001B[39;00m \u001B[38;5;28;01mimport\u001B[39;00m model_from_json\n\u001B[1;32m      6\u001B[0m \u001B[38;5;66;03m# Load the pre-trained model\u001B[39;00m\n",
      "\u001B[0;31mModuleNotFoundError\u001B[0m: No module named 'tensorflow'"
     ]
    }
   ],
   "source": [
    "import cv2\n",
    "import numpy as np\n",
    "import tensorflow as tf\n",
    "from tensorflow.keras.models import model_from_json\n",
    "\n",
    "# Load the pre-trained model\n",
    "with open('model.json', 'r') as f:\n",
    "    model = model_from_json(f.read())\n",
    "\n",
    "# Load the weights for the model\n",
    "model.load_weights('model.h5')\n",
    "\n",
    "# Initialize the webcam capture\n",
    "cap = cv2.VideoCapture(0)\n",
    "\n",
    "# Define the labels for the classes\n",
    "class_labels = ['c1', 'c2', 'c3', 'c4', 'c5']\n",
    "\n",
    "while True:\n",
    "    # Capture a frame from the webcam\n",
    "    ret, frame = cap.read()\n",
    "\n",
    "    # Resize the frame to the size expected by the model\n",
    "    input_shape = (224, 224)\n",
    "    frame_resized = cv2.resize(frame, input_shape)\n",
    "\n",
    "    # Preprocess the input data for the model\n",
    "    input_data = np.expand_dims(frame_resized, axis=0)\n",
    "    input_data = input_data / 255.0\n",
    "\n",
    "    # Get the predictions from the model\n",
    "    predictions = model.predict(input_data)\n",
    "\n",
    "    # Find the class label with the highest probability\n",
    "    class_index = np.argmax(predictions[0])\n",
    "    class_label = class_labels[class_index]\n",
    "\n",
    "    # Draw the class label on the frame\n",
    "    font = cv2.FONT_HERSHEY_SIMPLEX\n",
    "    font_scale = 1\n",
    "    font_color = (0, 255, 0)\n",
    "    thickness = 2\n",
    "    text_size = cv2.getTextSize(class_label, font, font_scale, thickness)[0]\n",
    "    text_x = int((frame.shape[1] - text_size[0]) / 2)\n",
    "    text_y = int((frame.shape[0] + text_size[1]) / 2)\n",
    "    cv2.putText(frame, class_label, (text_x, text_y), font, font_scale, font_color, thickness)\n",
    "\n",
    "    # Display the frame\n",
    "    cv2.imshow('Real-time Classification', frame)\n",
    "\n",
    "    # Exit the loop when the 'q' key is pressed\n",
    "    if cv2.waitKey(1) & 0xFF == ord('q'):\n",
    "        break\n",
    "\n",
    "# Release the webcam and close the window\n",
    "cap.release()\n",
    "cv2.destroyAllWindows()\n"
   ]
  },
  {
   "cell_type": "code",
   "execution_count": 1,
   "outputs": [
    {
     "ename": "ModuleNotFoundError",
     "evalue": "No module named 'mediapipe'",
     "output_type": "error",
     "traceback": [
      "\u001B[0;31m---------------------------------------------------------------------------\u001B[0m",
      "\u001B[0;31mModuleNotFoundError\u001B[0m                       Traceback (most recent call last)",
      "Cell \u001B[0;32mIn[1], line 2\u001B[0m\n\u001B[1;32m      1\u001B[0m \u001B[38;5;28;01mimport\u001B[39;00m \u001B[38;5;21;01mcv2\u001B[39;00m\n\u001B[0;32m----> 2\u001B[0m \u001B[38;5;28;01mimport\u001B[39;00m \u001B[38;5;21;01mmediapipe\u001B[39;00m \u001B[38;5;28;01mas\u001B[39;00m \u001B[38;5;21;01mmp\u001B[39;00m\n\u001B[1;32m      4\u001B[0m mp_drawing \u001B[38;5;241m=\u001B[39m mp\u001B[38;5;241m.\u001B[39msolutions\u001B[38;5;241m.\u001B[39mdrawing_utils\n\u001B[1;32m      5\u001B[0m mp_pose \u001B[38;5;241m=\u001B[39m mp\u001B[38;5;241m.\u001B[39msolutions\u001B[38;5;241m.\u001B[39mpose\n",
      "\u001B[0;31mModuleNotFoundError\u001B[0m: No module named 'mediapipe'"
     ]
    }
   ],
   "source": [],
   "metadata": {
    "collapsed": false
   }
  }
 ],
 "metadata": {
  "kernelspec": {
   "display_name": "Python 3",
   "language": "python",
   "name": "python3"
  },
  "language_info": {
   "codemirror_mode": {
    "name": "ipython",
    "version": 2
   },
   "file_extension": ".py",
   "mimetype": "text/x-python",
   "name": "python",
   "nbconvert_exporter": "python",
   "pygments_lexer": "ipython2",
   "version": "2.7.6"
  }
 },
 "nbformat": 4,
 "nbformat_minor": 0
}
